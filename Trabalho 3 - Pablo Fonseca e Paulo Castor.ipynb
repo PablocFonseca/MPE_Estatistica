{
 "cells": [
  {
   "cell_type": "markdown",
   "metadata": {},
   "source": [
    "<p alingn=\"right\"> para execução deste notebook, são necessárias as bibliotecas [pandas](http://pandas.pydata.org/) e [cufflinks](https://github.com/santosjorge/cufflinks) </p>"
   ]
  },
  {
   "cell_type": "code",
   "execution_count": null,
   "metadata": {
    "collapsed": false,
    "deletable": true,
    "editable": true
   },
   "outputs": [],
   "source": [
    "import cufflinks as cf\n",
    "import pandas as pd\n",
    "cf.go_offline()\n",
    "from collections import OrderedDict\n",
    "from IPython.display import display"
   ]
  },
  {
   "cell_type": "markdown",
   "metadata": {},
   "source": [
    "\n",
    " \n",
    "# <Center> Trabalho Prático 3 </center>\n",
    "\n",
    "### <Center> Estatística e Econometria - Mestrado Profissional em Macroeconomia e Finanças <br><br> Prof.: Marcelo C. Medeiros <br> Mon.: Pedro Américo <br><br> Data de Entrega: 30/06/2017, no início da monitoria\n",
    "\n",
    "##### Pablo Corrêa Fonseca <br> Paulo Castor de Castro\n",
    "\n",
    "\n",
    "\n",
    "\n",
    "O objetivo deste trabalho é estimar os impactos econômicos de escolaridade (retornos da\n",
    "educação), ou seja, os efeitos de um ano a mais de escolaridade no salário médio dos indivíduos.\n",
    "Para tal, será utilizado o artigo “Using Geographic Variation in College Proximity to Estimate\n",
    "the Return to Schooling” de David Card, publicado como\n",
    "Card, David (1995). “Using Geographic Variation in College Proximity to Estimate the Return\n",
    "to Schooling”. In L.N. Christofides, E.K. Grant, and R. Swidinsky, editors, Aspects of Labor\n",
    "Market Behaviour: Essays in Honour of John Vanderkamp. Toronto: University of Toronto\n",
    "Press.\n",
    "Para realização do trabalho você irá utilizar os dados na planilha [card.xlsx.](card.xlsx) Cada variável está\n",
    "descrita no arquivo [code_bk.txt.](code_bk.txt)\n",
    "\n",
    "1. Descreva brevemente os problemas mais importantes para a estimação do retorno da educação,\n",
    "focando principalmente na endogeneidade da variável escolaridade. Use no máximo\n",
    "uma página para discussão.\n",
    "\n",
    "2. Faça um breve resumo do artigo que serviu de base para o trabalho dando atenção especial\n",
    "aos métodos econométricos utilizados.\n",
    "\n",
    "3. Apresente estatísticas descritivas e histogramas para as seguintes variáveis: educ, lwage,\n",
    "exper.\n",
    "\n",
    "4. Estime um modelo de regressão linear simples onde a variável dependente é lwage e a\n",
    "variável explicativa é educ (inclua uma constante no modelo). Como podemos interpretar\n",
    "tal modelo? Como você poderia testar a hipótese nula que o impacto de educ em lwage\n",
    "é zero? Apresente todos os detalhes do teste. Qual a relação deste teste com os testes de\n",
    "hipóteses estudados na aula? O coeficiente de educ é significante estatisticamente? Qual é o\n",
    "R2 do modelo ajustado e como devemos interpretá-lo? Esta regressão estimada representa\n",
    "uma relação causal?\n",
    "\n",
    "5. Estime as regressões apresentadas na Tabela 2 do artigo e comente os resultados (os seus\n",
    "resultados podem diferir um pouco dos apresentados no artigo devido à pequenas diferenças\n",
    "nos dados).\n",
    "\n",
    "6. Explique porque habilidade, que é um fator não observado, pode atrapalhar as estimativas\n",
    "dos retornos da educação? Como as variáveis iq e kww (que representam testes de habilidade)\n",
    "poderiam ser utilizadas de forma a reduzir o problema? Estime um modelo de\n",
    "regressão usando tais variáveis e comente os resultados.\n",
    "\n",
    "7. Queremos agora utilizar a variável nearc4 (se a pessoa morava perto de uma universidade\n",
    "em 1966) como um instrumento para educação. Explique as condições que esta variável\n",
    "deve cumprir para servir de instrumento.\n",
    "\n",
    "8. Descreva o estimador de mínimos quadrados em dois estágios e qual a principal diferença\n",
    "para o estimador de mínimos quadrados ordinários.\n",
    "\n",
    "9. Agora vamos testar se o primeiro estágio funciona, estime o primeiro estágio regredindo\n",
    "educ em nearc4 e todas as outras variáveis exógenas incluídas no modelo de regressão.\n",
    "Reporte a estatística F do primeiro estágio e discuta os resultados.\n",
    "\n",
    "10. Agora estime o modelo por mínimos quadrados em dois estágios usando nearc4 como instrumento\n",
    "para educ. Compare o coeficiente de educação da estimação com os resultados\n",
    "anteriores. O que você pode concluir a partir deste experimento?"
   ]
  },
  {
   "cell_type": "code",
   "execution_count": null,
   "metadata": {
    "collapsed": true
   },
   "outputs": [],
   "source": []
  }
 ],
 "metadata": {
  "kernelspec": {
   "display_name": "Python [conda root]",
   "language": "python",
   "name": "conda-root-py"
  },
  "language_info": {
   "codemirror_mode": {
    "name": "ipython",
    "version": 2
   },
   "file_extension": ".py",
   "mimetype": "text/x-python",
   "name": "python",
   "nbconvert_exporter": "python",
   "pygments_lexer": "ipython2",
   "version": "2.7.13"
  }
 },
 "nbformat": 4,
 "nbformat_minor": 2
}
